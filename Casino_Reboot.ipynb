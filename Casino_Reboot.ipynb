{
 "cells": [
  {
   "cell_type": "code",
   "execution_count": 40,
   "id": "b0776438",
   "metadata": {
    "scrolled": true
   },
   "outputs": [
    {
     "name": "stdout",
     "output_type": "stream",
     "text": [
      "['High', 'Low', 'Number', 'Red', 'Black', 'Dozen', 'Column']\n",
      "What would you like to bet? Red\n",
      "You won!, 7 came up\n",
      "You now have 5005000 dollars\n"
     ]
    }
   ],
   "source": [
    "import random\n",
    "class Gamble():\n",
    "    def __init__(self,money):\n",
    "        self.money = money\n",
    "    def set_money(self,money):\n",
    "        self.money = money\n",
    "    def get_money(self):\n",
    "        return self.money\n",
    "        \n",
    "    def russian_roulette(self, n):#Anything above 5 means you will die most of the time\n",
    "        loaded = random.randint(1,6)\n",
    "        chamber = 1\n",
    "        turns = 0\n",
    "        Flag = False\n",
    "        while True:\n",
    "            print('Options:Quit,Spin,Shoot')\n",
    "            option = input().lower()\n",
    "            if option == 'quit':\n",
    "                return('Coward')\n",
    "            elif option == 'spin':\n",
    "                Flag = True\n",
    "                loaded = random.randint(1,6)\n",
    "                chamber = 1\n",
    "            elif option == 'shoot':\n",
    "                #print(\"You pull the trigger, praying to whatever god is out there it's empty\")\n",
    "                if chamber == loaded:\n",
    "                    print('BANG!')\n",
    "                    if turns == 1:\n",
    "                        print('You survived 1 round')\n",
    "                    else:\n",
    "                        print(f'You survived {turns} rounds')\n",
    "                    self.money -= 10000*n\n",
    "                    return 'You are dead'\n",
    "                else:\n",
    "                    turns += 1\n",
    "                    chamber += 1\n",
    "                    if chamber > 6:\n",
    "                        chamber %= 6\n",
    "                    #print('Click.')\n",
    "                    print('You survived')          \n",
    "                    if turns == n:\n",
    "                        if Flag:\n",
    "                            print('You spun though, so a half victory')\n",
    "                        self.money += 10000 * n\n",
    "                        return 'Congratulations, you survived!'\n",
    "                \n",
    "            else:\n",
    "                print('Unknown input')\n",
    "                continue\n",
    "        #def blackjack(self,n):\n",
    "        #    Flag = True\n",
    "        #    hand = []\n",
    "        #    card = ['A', '2', '3', '4', '5', '6', \n",
    "        #            '7', '8', '9', '10', 'J', 'Q', \n",
    "        #            'K']\n",
    "        #    for _ in range(2):\n",
    "        #        hand.append(random.randint(1,13))\n",
    "        #    print(hand)\n",
    "        #    while Flag:\n",
    "        #        print('Hit or stand?')\n",
    "        #    option = input().lower\n",
    "        #    if option == 'hit':\n",
    "        #        hand.append(random.randint(1,13))\n",
    "        #        print(hand)\n",
    "    def roulette(self,bet):\n",
    "        mon = self.money\n",
    "        lst = ['High','Low','Number','Red','Black','Dozen','Column']\n",
    "        print(lst)\n",
    "        choice = input('What would you like to bet? ')\n",
    "        if choice not in lst:\n",
    "            return('Unknown input')\n",
    "        else:\n",
    "            n = random.randint(0,36)\n",
    "            if n == 0:\n",
    "                return('You lose')\n",
    "                self.money -= bet\n",
    "            if choice not in lst:\n",
    "                return('Unknown input')\n",
    "            elif choice == 'High' or choice == 'Low':\n",
    "                if choice == 'High':\n",
    "                    self.money += bet if (n > 18) else - bet\n",
    "                if choice == 'Low':\n",
    "                    self.money += bet if n < 19 else - bet\n",
    "            elif choice == 'Number':\n",
    "                num = int(input('Enter your number: '))\n",
    "                if num not in range(0,36):\n",
    "                    return('Unknown input')\n",
    "                else:\n",
    "                    self.money += 35*bet if num == n else - bet\n",
    "            elif choice == 'Red' or choice == 'Black':\n",
    "                lis = [32, 19, 21, 25, 34, 27, 36, 30, 23, 5, 16, 1, 14, 9, 18, 7, 12, 3]\n",
    "                if choice == 'Red':\n",
    "                    self.money += bet if (n in lis) else - bet\n",
    "                if choice == 'Black':\n",
    "                    self.money += bet if (n not in lis) else - bet\n",
    "            elif choice == 'Odd' or choice == 'Even':\n",
    "                if choice == 'Odd':\n",
    "                    self.money += bet if (n%2 == 1) else - bet\n",
    "                if choice == 'Even':\n",
    "                    self.money += bet if (n%2 == 0) else - bet\n",
    "            else:\n",
    "                c = int(input('1,2, or 3: '))\n",
    "                if c not in [1,2,3]:\n",
    "                    return('Unknown input')\n",
    "                if choice == 'Dozen':\n",
    "                    if c == 1:\n",
    "                        self.money += 2*bet if n in range(1,13) else - bet\n",
    "                    elif c == 2:\n",
    "                        self.money += 2*bet if n in range(13,25) else - bet\n",
    "                    else:\n",
    "                        self.money += 2*bet if n in range(25,37) else - bet\n",
    "                elif choice == 'Column':\n",
    "                        self.money += 2*bet if n%3 == c else -bet\n",
    "        if mon > self.money:\n",
    "            print(f'You lost, {n} came up')\n",
    "        else:\n",
    "            print(f'You won!, {n} came up')\n",
    "        print(f'You now have {self.money} dollars')\n",
    "    #WIP\n",
    "    def four_d(self,bet):\n",
    "        nums = [random.randint(0,9999) for _ in range(23)]\n",
    "        lst = ['Big','Small']\n",
    "        lst_1 = ['Ordinary','Roll','System Entry','iBet','Quickpick']\n",
    "        choice = input()\n",
    "        if choice not in lst:\n",
    "            return 'Unknown input'\n",
    "        else:\n",
    "            \n",
    "            \n",
    "            \n",
    "            \n",
    "        \n",
    "        \n",
    "        \n",
    "G = Gamble(5 * 10**6)\n",
    "G.roulette(5000)"
   ]
  },
  {
   "cell_type": "code",
   "execution_count": 8,
   "id": "09a1a7a7",
   "metadata": {},
   "outputs": [
    {
     "data": {
      "text/plain": [
       "10000"
      ]
     },
     "execution_count": 8,
     "metadata": {},
     "output_type": "execute_result"
    }
   ],
   "source": [
    "G.get_money()"
   ]
  },
  {
   "cell_type": "code",
   "execution_count": 12,
   "id": "06fca374",
   "metadata": {},
   "outputs": [
    {
     "data": {
      "text/plain": [
       "True"
      ]
     },
     "execution_count": 12,
     "metadata": {},
     "output_type": "execute_result"
    }
   ],
   "source": [
    "3 in range(3,5)"
   ]
  },
  {
   "cell_type": "code",
   "execution_count": 4,
   "id": "9c46d04f",
   "metadata": {},
   "outputs": [
    {
     "name": "stdout",
     "output_type": "stream",
     "text": [
      "['10 of Clubs', '10 of Spades', '2 of Clubs', '2 of Diamonds', '2 of Spades', '3 of Diamonds', '5 of Diamonds', '8 of Spades', '9 of Diamonds', '9 of Hearts', 'Jack of Diamonds', 'King of Spades', 'Queen of Spades']\n",
      "Enter the hand in a list format\n"
     ]
    }
   ],
   "source": [
    "import random\n",
    "def chinese_blackjack(n):\n",
    "    nums = ['Ace', '2', '3', '4', '5', \n",
    "            '6', '7', '8', '9', '10', \n",
    "            'Jack', 'Queen', 'King']\n",
    "    suit = ['Diamonds', 'Clubs' ,'Hearts', 'Spades']\n",
    "    hand = []\n",
    "    for _ in range(13):\n",
    "        hand.append((f'{nums[random.randint(0,12)]} of {suit[random.randint(0,3)]}'))\n",
    "    while len(set(hand))<13:\n",
    "        for _ in range(13 - len(set(hand))):\n",
    "            hand.append((f'{nums[random.randint(0,12)]} of {suit[random.randint(0,3)]}'))\n",
    "        hand = list(set(hand))\n",
    "    hand.sort()\n",
    "    print(hand)\n",
    "    print('Enter the hand in a list format')\n",
    "chinese_blackjack(3) "
   ]
  },
  {
   "cell_type": "code",
   "execution_count": 16,
   "id": "0ba12d1f",
   "metadata": {},
   "outputs": [],
   "source": [
    "#WIP\n",
    "def buckshot_roulette():\n",
    "    Alive = True\n",
    "    Lives = int(input())\n",
    "    Dealer_Turn = False\n",
    "    Player_Turn = True\n",
    "    while Alive: \n",
    "        print(f'Dealer:{Lives} , Player:{lives}')\n",
    "        Shells,Live,Dummy =  random.randint(1,12),random.randint(1,Shells),Shells-Live\n",
    "        Dummy = max(Dummy,1)\n",
    "        lst = ['Live']*Live + ['Dummy']*Dummy\n",
    "        random.shuffle(lst)\n",
    "        print(f'{Live} live shells, {Dummy} dummy shells')\n",
    "        \n",
    "        "
   ]
  },
  {
   "cell_type": "code",
   "execution_count": 55,
   "id": "623fe035",
   "metadata": {},
   "outputs": [
    {
     "name": "stdout",
     "output_type": "stream",
     "text": [
      "11 2 1\n",
      "['Live', 'Dummy', 'Live']\n",
      "['Live', 'Dummy']\n"
     ]
    }
   ],
   "source": [
    "import random\n",
    "\n",
    "Dummy = max(Dummy,1)\n",
    "lst = ['Live']*Live + ['Dummy']*Dummy\n",
    "random.shuffle(lst)\n",
    "print(Shells,Live,Dummy)\n",
    "print(lst)\n",
    "print(lst[:-1])"
   ]
  }
 ],
 "metadata": {
  "kernelspec": {
   "display_name": "Python 3 (ipykernel)",
   "language": "python",
   "name": "python3"
  },
  "language_info": {
   "codemirror_mode": {
    "name": "ipython",
    "version": 3
   },
   "file_extension": ".py",
   "mimetype": "text/x-python",
   "name": "python",
   "nbconvert_exporter": "python",
   "pygments_lexer": "ipython3",
   "version": "3.7.7"
  }
 },
 "nbformat": 4,
 "nbformat_minor": 5
}
